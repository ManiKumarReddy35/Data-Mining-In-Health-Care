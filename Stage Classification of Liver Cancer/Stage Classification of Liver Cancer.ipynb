{
 "cells": [
  {
   "cell_type": "markdown",
   "metadata": {},
   "source": [
    "# STAGE CLASSIFICATION OF LIVER CANCER"
   ]
  },
  {
   "cell_type": "markdown",
   "metadata": {},
   "source": [
    "## INTRODUCTION"
   ]
  },
  {
   "cell_type": "markdown",
   "metadata": {},
   "source": [
    "CANCER is one among the life threatening diseases in the present world. A potential research is being carried out for its cure and detection. Coming to this task, it is a binary classification problem in which the class \"-1\" indicate intial stage of cancer whereas +1 indicate the advanced stage. The data has huge count of features which is 60,483 per sample. This 60,483 length sample indicate the RNA expression of a human. So, our task here is to predict the infection stage of the patient (already given that he is cancerous) given his RNA expression."
   ]
  },
  {
   "cell_type": "markdown",
   "metadata": {},
   "source": [
    "## DATASET DESCRIPTION"
   ]
  },
  {
   "cell_type": "markdown",
   "metadata": {},
   "source": [
    "* The amount of data available is too low. As a part of training data we are provided with just 279 samples each of length 60,483.\n",
    "* As a part of test data we are given to predict the labels of 71 samples."
   ]
  },
  {
   "cell_type": "markdown",
   "metadata": {},
   "source": [
    "## EVALUATION METRIC USED"
   ]
  },
  {
   "cell_type": "markdown",
   "metadata": {},
   "source": [
    "* ROC_AUC"
   ]
  },
  {
   "cell_type": "markdown",
   "metadata": {},
   "source": [
    "## METHODOLOGY"
   ]
  },
  {
   "cell_type": "markdown",
   "metadata": {},
   "source": [
    "* Read both training and test datasets into respective pandas dataframes.\n",
    "* Re-arranged the data by deleting unneccessary columns and also seperated out training labels from that samples.\n",
    "* Normalized both train and test samples.\n",
    "* Performed Feature Selection thus extracting top-100 features using \"SelectKBest\" technique.\n",
    "* Applied Logistic Regression, SVM, Bagging, Adaboost, Gradient boosting classifiers which are fine tuned using GridSearchCV with 5-fold cross validation.\n",
    "* Final predictions are considered by applying voting on top-3 performing classifiers."
   ]
  },
  {
   "cell_type": "markdown",
   "metadata": {},
   "source": [
    "## FINAL RESULT ON TEST DATA (KAGGLE COMPETITION)"
   ]
  },
  {
   "cell_type": "markdown",
   "metadata": {},
   "source": [
    "* ROC_AUC on Test Data = 0.72500 (Among top-15 in total of 150+ submissions)"
   ]
  },
  {
   "cell_type": "markdown",
   "metadata": {},
   "source": [
    "## IMPORTING ALL THE REQUIRED MODULES"
   ]
  },
  {
   "cell_type": "code",
   "execution_count": 11,
   "metadata": {},
   "outputs": [],
   "source": [
    "import pandas as pd\n",
    "from sklearn.model_selection import train_test_split\n",
    "import warnings\n",
    "warnings.filterwarnings(\"ignore\")\n",
    "import matplotlib.pyplot as plt\n",
    "from sklearn.linear_model import LogisticRegression\n",
    "from statistics import mode\n",
    "from sklearn.ensemble import AdaBoostClassifier\n",
    "from sklearn.ensemble import BaggingClassifier\n",
    "from sklearn.svm import SVC\n",
    "from sklearn.preprocessing import Normalizer\n",
    "from sklearn.model_selection import GridSearchCV\n",
    "from sklearn.tree import DecisionTreeClassifier\n",
    "from sklearn.ensemble import GradientBoostingClassifier"
   ]
  },
  {
   "cell_type": "markdown",
   "metadata": {},
   "source": [
    "## READING THE TRAINING DATA"
   ]
  },
  {
   "cell_type": "code",
   "execution_count": 12,
   "metadata": {},
   "outputs": [
    {
     "name": "stdout",
     "output_type": "stream",
     "text": [
      "DIMENSIONS OF THE DATA:: (279, 60485)\n"
     ]
    }
   ],
   "source": [
    "x_data = pd.read_csv(\"E:\\\\1. MTECH\\\\SEM-2\\\\BDMH\\\\ASSIGNMENT-2\\\\train.csv\")\n",
    "print(\"DIMENSIONS OF THE DATA::\",x_data.shape)"
   ]
  },
  {
   "cell_type": "markdown",
   "metadata": {},
   "source": [
    "## READING THE TEST DATA"
   ]
  },
  {
   "cell_type": "code",
   "execution_count": 16,
   "metadata": {},
   "outputs": [
    {
     "name": "stdout",
     "output_type": "stream",
     "text": [
      "DIMENSIONS OF TEST DATA:: (71, 60484)\n"
     ]
    }
   ],
   "source": [
    "data_test = pd.read_csv(\"E:\\\\1. MTECH\\\\SEM-2\\\\BDMH\\\\ASSIGNMENT-2\\\\test.csv\")\n",
    "print(\"DIMENSIONS OF TEST DATA::\",data_test.shape)"
   ]
  },
  {
   "cell_type": "markdown",
   "metadata": {},
   "source": [
    "## DISPLAYING THE DATA"
   ]
  },
  {
   "cell_type": "code",
   "execution_count": 13,
   "metadata": {},
   "outputs": [
    {
     "data": {
      "text/html": [
       "<div>\n",
       "<style scoped>\n",
       "    .dataframe tbody tr th:only-of-type {\n",
       "        vertical-align: middle;\n",
       "    }\n",
       "\n",
       "    .dataframe tbody tr th {\n",
       "        vertical-align: top;\n",
       "    }\n",
       "\n",
       "    .dataframe thead th {\n",
       "        text-align: right;\n",
       "    }\n",
       "</style>\n",
       "<table border=\"1\" class=\"dataframe\">\n",
       "  <thead>\n",
       "    <tr style=\"text-align: right;\">\n",
       "      <th></th>\n",
       "      <th>id</th>\n",
       "      <th>Label</th>\n",
       "      <th>ENSG00000242268.2</th>\n",
       "      <th>ENSG00000270112.3</th>\n",
       "      <th>ENSG00000167578.15</th>\n",
       "      <th>ENSG00000273842.1</th>\n",
       "      <th>ENSG00000078237.5</th>\n",
       "      <th>ENSG00000146083.10</th>\n",
       "      <th>ENSG00000225275.4</th>\n",
       "      <th>ENSG00000158486.12</th>\n",
       "      <th>...</th>\n",
       "      <th>ENSG00000238244.3</th>\n",
       "      <th>ENSG00000186115.11</th>\n",
       "      <th>ENSG00000216352.1</th>\n",
       "      <th>ENSG00000267117.1</th>\n",
       "      <th>ENSG00000273233.1</th>\n",
       "      <th>ENSG00000105063.17</th>\n",
       "      <th>ENSG00000231119.2</th>\n",
       "      <th>ENSG00000280861.1</th>\n",
       "      <th>ENSG00000123685.7</th>\n",
       "      <th>ENSG00000181518.3</th>\n",
       "    </tr>\n",
       "  </thead>\n",
       "  <tbody>\n",
       "    <tr>\n",
       "      <th>0</th>\n",
       "      <td>TCGA-2V-A95S-01A</td>\n",
       "      <td>-1</td>\n",
       "      <td>1.3226</td>\n",
       "      <td>0.000000</td>\n",
       "      <td>2.60713</td>\n",
       "      <td>0</td>\n",
       "      <td>1.411440</td>\n",
       "      <td>3.27352</td>\n",
       "      <td>0</td>\n",
       "      <td>0.006410</td>\n",
       "      <td>...</td>\n",
       "      <td>0</td>\n",
       "      <td>2.710970</td>\n",
       "      <td>0.0</td>\n",
       "      <td>0.435580</td>\n",
       "      <td>0.000000</td>\n",
       "      <td>3.90541</td>\n",
       "      <td>0.017601</td>\n",
       "      <td>0</td>\n",
       "      <td>1.708020</td>\n",
       "      <td>0.0</td>\n",
       "    </tr>\n",
       "    <tr>\n",
       "      <th>1</th>\n",
       "      <td>TCGA-2Y-A9GU-01A</td>\n",
       "      <td>1</td>\n",
       "      <td>0.0000</td>\n",
       "      <td>0.006431</td>\n",
       "      <td>1.49737</td>\n",
       "      <td>0</td>\n",
       "      <td>0.598584</td>\n",
       "      <td>2.39426</td>\n",
       "      <td>0</td>\n",
       "      <td>0.006599</td>\n",
       "      <td>...</td>\n",
       "      <td>0</td>\n",
       "      <td>0.812853</td>\n",
       "      <td>0.0</td>\n",
       "      <td>0.208534</td>\n",
       "      <td>0.147081</td>\n",
       "      <td>4.05334</td>\n",
       "      <td>0.368102</td>\n",
       "      <td>0</td>\n",
       "      <td>0.182464</td>\n",
       "      <td>0.0</td>\n",
       "    </tr>\n",
       "  </tbody>\n",
       "</table>\n",
       "<p>2 rows × 60485 columns</p>\n",
       "</div>"
      ],
      "text/plain": [
       "                 id  Label  ENSG00000242268.2  ENSG00000270112.3  \\\n",
       "0  TCGA-2V-A95S-01A     -1             1.3226           0.000000   \n",
       "1  TCGA-2Y-A9GU-01A      1             0.0000           0.006431   \n",
       "\n",
       "   ENSG00000167578.15  ENSG00000273842.1  ENSG00000078237.5  \\\n",
       "0             2.60713                  0           1.411440   \n",
       "1             1.49737                  0           0.598584   \n",
       "\n",
       "   ENSG00000146083.10  ENSG00000225275.4  ENSG00000158486.12  \\\n",
       "0             3.27352                  0            0.006410   \n",
       "1             2.39426                  0            0.006599   \n",
       "\n",
       "         ...          ENSG00000238244.3  ENSG00000186115.11  \\\n",
       "0        ...                          0            2.710970   \n",
       "1        ...                          0            0.812853   \n",
       "\n",
       "   ENSG00000216352.1  ENSG00000267117.1  ENSG00000273233.1  \\\n",
       "0                0.0           0.435580           0.000000   \n",
       "1                0.0           0.208534           0.147081   \n",
       "\n",
       "   ENSG00000105063.17  ENSG00000231119.2  ENSG00000280861.1  \\\n",
       "0             3.90541           0.017601                  0   \n",
       "1             4.05334           0.368102                  0   \n",
       "\n",
       "   ENSG00000123685.7  ENSG00000181518.3  \n",
       "0           1.708020                0.0  \n",
       "1           0.182464                0.0  \n",
       "\n",
       "[2 rows x 60485 columns]"
      ]
     },
     "execution_count": 13,
     "metadata": {},
     "output_type": "execute_result"
    }
   ],
   "source": [
    "x_data.head(2)"
   ]
  },
  {
   "cell_type": "markdown",
   "metadata": {},
   "source": [
    "## DROPPING \"ID\" COLUMN AND SEPERATING OUT \"LABELS\" COLUMN FROM \"x_data\""
   ]
  },
  {
   "cell_type": "code",
   "execution_count": 14,
   "metadata": {},
   "outputs": [
    {
     "name": "stdout",
     "output_type": "stream",
     "text": [
      "Shape of x_data:: (279, 60483)\n",
      "Shape of y_data:: (279,)\n"
     ]
    }
   ],
   "source": [
    "del x_data['id']\n",
    "y_data = x_data['Label']\n",
    "del x_data['Label']\n",
    "print(\"Shape of x_data::\",x_data.shape)\n",
    "print(\"Shape of y_data::\",y_data.shape)"
   ]
  },
  {
   "cell_type": "markdown",
   "metadata": {},
   "source": [
    "## DELETING \"ID\" COLUMN FROM TEST DATA"
   ]
  },
  {
   "cell_type": "code",
   "execution_count": 17,
   "metadata": {},
   "outputs": [
    {
     "name": "stdout",
     "output_type": "stream",
     "text": [
      "shape of test data:: (71, 60483)\n"
     ]
    }
   ],
   "source": [
    "del  data_test['id']\n",
    "print(\"shape of test data::\",data_test.shape)"
   ]
  },
  {
   "cell_type": "markdown",
   "metadata": {},
   "source": [
    "## NORMALIZING THE DATA"
   ]
  },
  {
   "cell_type": "code",
   "execution_count": 18,
   "metadata": {},
   "outputs": [
    {
     "name": "stdout",
     "output_type": "stream",
     "text": [
      "Shape of x_train_norm:: (279, 60483)\n",
      "Shape of x_test_norm:: (71, 60483)\n"
     ]
    }
   ],
   "source": [
    "norm = Normalizer()\n",
    "x_train_norm = norm.fit_transform(x_data)\n",
    "x_test_norm = norm.transform(data_test)\n",
    "print(\"Shape of x_train_norm::\",x_train_norm.shape)\n",
    "print(\"Shape of x_test_norm::\",x_test_norm.shape)"
   ]
  },
  {
   "cell_type": "markdown",
   "metadata": {},
   "source": [
    "## COUNT OF CLASS-WISE LABELS IN TRAINING SET"
   ]
  },
  {
   "cell_type": "code",
   "execution_count": 19,
   "metadata": {},
   "outputs": [
    {
     "data": {
      "image/png": "[encoded data removed]",
      "text/plain": [
       "<Figure size 432x288 with 1 Axes>"
      ]
     },
     "metadata": {
      "needs_background": "light"
     },
     "output_type": "display_data"
    }
   ],
   "source": [
    "y_data.value_counts().plot(\"bar\")\n",
    "plt.show()"
   ]
  },
  {
   "cell_type": "code",
   "execution_count": 20,
   "metadata": {},
   "outputs": [
    {
     "data": {
      "text/plain": [
       "-1    141\n",
       " 1    138\n",
       "Name: Label, dtype: int64"
      ]
     },
     "execution_count": 20,
     "metadata": {},
     "output_type": "execute_result"
    }
   ],
   "source": [
    "y_data.value_counts()"
   ]
  },
  {
   "cell_type": "markdown",
   "metadata": {},
   "source": [
    "## PERFORMING FEATURE EXTRACTION"
   ]
  },
  {
   "cell_type": "code",
   "execution_count": 21,
   "metadata": {},
   "outputs": [
    {
     "data": {
      "text/plain": [
       "((279, 100), (71, 100))"
      ]
     },
     "execution_count": 21,
     "metadata": {},
     "output_type": "execute_result"
    }
   ],
   "source": [
    "from sklearn.feature_selection import SelectKBest\n",
    "\n",
    "top_k = SelectKBest(k=100)\n",
    "\n",
    "x_train_norm_top = top_k.fit_transform(x_train_norm,y_data)\n",
    "\n",
    "x_test_norm_top = top_k.transform(x_test_norm)\n",
    "\n",
    "x_train_norm_top.shape,x_test_norm_top.shape"
   ]
  },
  {
   "cell_type": "markdown",
   "metadata": {},
   "source": [
    "# APPLYING LOGISTIC REGRESSION CLASSIFIER"
   ]
  },
  {
   "cell_type": "markdown",
   "metadata": {},
   "source": [
    "### PARAMETER TUNING USING GRIDSEARCH CV WITH 5-FOLD CROSS VALIDATION"
   ]
  },
  {
   "cell_type": "code",
   "execution_count": 35,
   "metadata": {},
   "outputs": [
    {
     "data": {
      "text/plain": [
       "GridSearchCV(cv=5, estimator=LogisticRegression(solver='liblinear'),\n",
       "             param_grid={'C': [100, 101, 102, 103, 104, 105, 106, 107, 108,\n",
       "                               109],\n",
       "                         'penalty': ('l2', 'l1', 'elasticnet', 'none')},\n",
       "             scoring='roc_auc')"
      ]
     },
     "execution_count": 35,
     "metadata": {},
     "output_type": "execute_result"
    }
   ],
   "source": [
    "parameters = {'penalty':(\"l2\",\"l1\",\"elasticnet\",\"none\"),'C':[100,101,102,103,104,105,106,107,108,109]}\n",
    "logistic = LogisticRegression(solver=\"liblinear\")\n",
    "clf = GridSearchCV(logistic,parameters,scoring = 'roc_auc',cv=5)\n",
    "clf.fit(x_train_norm_top,y_data)"
   ]
  },
  {
   "cell_type": "markdown",
   "metadata": {},
   "source": [
    "### BEST ESTIMATOR FOR LOGISTIC REGRESSION"
   ]
  },
  {
   "cell_type": "code",
   "execution_count": 36,
   "metadata": {},
   "outputs": [
    {
     "data": {
      "text/plain": [
       "({'C': 105, 'penalty': 'l2'}, 0.7290985742956186)"
      ]
     },
     "execution_count": 36,
     "metadata": {},
     "output_type": "execute_result"
    }
   ],
   "source": [
    "clf.best_params_,clf.best_score_"
   ]
  },
  {
   "cell_type": "markdown",
   "metadata": {},
   "source": [
    "### TRAINING ON BEST PARAMTERS"
   ]
  },
  {
   "cell_type": "code",
   "execution_count": 37,
   "metadata": {},
   "outputs": [],
   "source": [
    "logistic = LogisticRegression(C = 105,penalty = \"l2\",solver=\"liblinear\")\n",
    "logistic.fit(x_train_norm_top,y_data)\n",
    "pred_logistic = list(logistic.predict(x_test_norm_top))"
   ]
  },
  {
   "cell_type": "markdown",
   "metadata": {},
   "source": [
    "### TEST DATA PREDICTIONS USING LOGISTIC REGRESSION"
   ]
  },
  {
   "cell_type": "code",
   "execution_count": 42,
   "metadata": {},
   "outputs": [
    {
     "name": "stdout",
     "output_type": "stream",
     "text": [
      "[1, 1, 1, 1, -1, -1, -1, -1, 1, 1, -1, -1, 1, -1, -1, -1, -1, -1, -1, -1, -1, -1, -1, 1, -1, -1, 1, -1, 1, 1, 1, -1, 1, 1, -1, -1, -1, 1, 1, -1, 1, -1, 1, -1, -1, 1, 1, -1, 1, 1, 1, 1, -1, -1, -1, -1, 1, -1, 1, -1, -1, 1, -1, 1, 1, -1, -1, -1, 1, -1, 1] 71\n"
     ]
    }
   ],
   "source": [
    "print(pred_logistic,end=\" \")"
   ]
  },
  {
   "cell_type": "markdown",
   "metadata": {},
   "source": [
    "# APPLYING SVM CLASSIFIER"
   ]
  },
  {
   "cell_type": "markdown",
   "metadata": {},
   "source": [
    "### PARAMETER TUNING UISNG GRIDSEARCHCV WITH 5-FOLD CROSS VALIDATION"
   ]
  },
  {
   "cell_type": "code",
   "execution_count": 50,
   "metadata": {},
   "outputs": [
    {
     "data": {
      "text/plain": [
       "GridSearchCV(cv=5, estimator=SVC(random_state=0),\n",
       "             param_grid={'C': [0.9, 0.95, 0.96, 0.97, 0.98, 0.99, 1, 2, 3, 4, 5,\n",
       "                               6, 7, 8, 9],\n",
       "                         'kernel': ['linear', 'rbf']},\n",
       "             scoring='roc_auc')"
      ]
     },
     "execution_count": 50,
     "metadata": {},
     "output_type": "execute_result"
    }
   ],
   "source": [
    "parameters = {'C':[0.90,0.95,0.96,0.97,0.98,0.99,1,2,3,4,5,6,7,8,9],'kernel':['linear','rbf']}\n",
    "svm = SVC(random_state=0)\n",
    "clf = GridSearchCV(svm,parameters,scoring = 'roc_auc',cv=5)\n",
    "clf.fit(x_train_norm_top,y_data)"
   ]
  },
  {
   "cell_type": "markdown",
   "metadata": {},
   "source": [
    "### BEST ESTIMATOR FOR SVM"
   ]
  },
  {
   "cell_type": "code",
   "execution_count": 51,
   "metadata": {},
   "outputs": [
    {
     "data": {
      "text/plain": [
       "({'C': 0.99, 'kernel': 'rbf'}, 0.7324018687934943)"
      ]
     },
     "execution_count": 51,
     "metadata": {},
     "output_type": "execute_result"
    }
   ],
   "source": [
    "clf.best_params_,clf.best_score_"
   ]
  },
  {
   "cell_type": "markdown",
   "metadata": {},
   "source": [
    "### TRAINING ON BEST PARAMETERS"
   ]
  },
  {
   "cell_type": "code",
   "execution_count": 57,
   "metadata": {},
   "outputs": [
    {
     "name": "stdout",
     "output_type": "stream",
     "text": [
      "Performance on Training Data:: 0.7275985663082437\n"
     ]
    }
   ],
   "source": [
    "svm = SVC(random_state=0,C=0.99,kernel='rbf')\n",
    "svm.fit(x_train_norm_top,y_data)\n",
    "print(\"Performance on Training Data::\", svm.score(x_train_norm_top,y_data))\n",
    "pred_svm = list(svm.predict(x_test_norm_top))"
   ]
  },
  {
   "cell_type": "markdown",
   "metadata": {},
   "source": [
    "### TEST DATA PREDICTIONS USING SVM CLASSIFIER"
   ]
  },
  {
   "cell_type": "code",
   "execution_count": 58,
   "metadata": {},
   "outputs": [
    {
     "name": "stdout",
     "output_type": "stream",
     "text": [
      "[1, 1, 1, 1, -1, 1, -1, -1, 1, 1, -1, -1, 1, -1, -1, -1, -1, 1, -1, 1, -1, 1, -1, 1, -1, -1, 1, -1, 1, 1, 1, -1, 1, 1, 1, -1, -1, 1, 1, 1, 1, 1, 1, -1, -1, 1, 1, 1, 1, 1, 1, 1, -1, -1, -1, -1, 1, 1, 1, 1, -1, 1, -1, 1, 1, -1, -1, -1, 1, -1, 1] "
     ]
    }
   ],
   "source": [
    "print(pred_svm,end=\" \")"
   ]
  },
  {
   "cell_type": "markdown",
   "metadata": {},
   "source": [
    "# APPLYING BAGGING CLASSIFIER WITH BASE ESTIMATOR AS DTREE"
   ]
  },
  {
   "cell_type": "markdown",
   "metadata": {},
   "source": [
    "### PARAMETER TUNING USING GRIDSEARCHCV WITH 5-FOLD CROSS-VALIDATION"
   ]
  },
  {
   "cell_type": "code",
   "execution_count": 63,
   "metadata": {},
   "outputs": [
    {
     "data": {
      "text/plain": [
       "GridSearchCV(cv=5,\n",
       "             estimator=BaggingClassifier(base_estimator=DecisionTreeClassifier(max_depth=25,\n",
       "                                                                               random_state=0),\n",
       "                                         random_state=0),\n",
       "             param_grid={'n_estimators': [1000, 1010, 1020, 1030, 1040, 1050,\n",
       "                                          1060, 1070, 1080, 1090, 1100]},\n",
       "             scoring='roc_auc')"
      ]
     },
     "execution_count": 63,
     "metadata": {},
     "output_type": "execute_result"
    }
   ],
   "source": [
    "parameters = {'n_estimators':[1000,1010,1020,1030,1040,1050,1060,1070,1080,1090,1100]}\n",
    "bagging = BaggingClassifier(base_estimator=DecisionTreeClassifier(random_state=0,max_depth=25),random_state = 0)\n",
    "clf = GridSearchCV(bagging,parameters,scoring='roc_auc',cv=5)\n",
    "clf.fit(x_train_norm_top,y_data)"
   ]
  },
  {
   "cell_type": "markdown",
   "metadata": {},
   "source": [
    "### BEST ESTIMATOR FOR BAGGING CLASSIFIER"
   ]
  },
  {
   "cell_type": "code",
   "execution_count": 64,
   "metadata": {},
   "outputs": [
    {
     "data": {
      "text/plain": [
       "({'n_estimators': 1020}, 0.76721775875101)"
      ]
     },
     "execution_count": 64,
     "metadata": {},
     "output_type": "execute_result"
    }
   ],
   "source": [
    "clf.best_params_,clf.best_score_"
   ]
  },
  {
   "cell_type": "markdown",
   "metadata": {},
   "source": [
    "### TRAINING ON BEST PARAMETERS"
   ]
  },
  {
   "cell_type": "code",
   "execution_count": 66,
   "metadata": {},
   "outputs": [
    {
     "name": "stdout",
     "output_type": "stream",
     "text": [
      "Performance on Training Data:: 1.0\n"
     ]
    }
   ],
   "source": [
    "bagging = BaggingClassifier(n_estimators=1020,base_estimator=DecisionTreeClassifier(random_state=0,max_depth=25),random_state=0)\n",
    "bagging.fit(x_train_norm_top,y_data)\n",
    "print(\"Performance on Training Data::\", bagging.score(x_train_norm_top,y_data))\n",
    "pred_bagging = list(bagging.predict(x_test_norm_top))"
   ]
  },
  {
   "cell_type": "markdown",
   "metadata": {},
   "source": [
    "### PREDICTIONS ON TEST DATA"
   ]
  },
  {
   "cell_type": "code",
   "execution_count": 67,
   "metadata": {},
   "outputs": [
    {
     "name": "stdout",
     "output_type": "stream",
     "text": [
      "[1, 1, 1, 1, -1, 1, -1, -1, -1, -1, -1, -1, 1, -1, -1, -1, -1, -1, -1, -1, -1, 1, -1, 1, -1, -1, 1, -1, 1, 1, 1, -1, 1, 1, -1, 1, -1, 1, 1, -1, 1, 1, 1, -1, -1, -1, 1, 1, 1, 1, -1, -1, -1, -1, -1, 1, 1, 1, -1, 1, -1, 1, -1, 1, 1, -1, -1, 1, 1, -1, -1] "
     ]
    }
   ],
   "source": [
    "print(pred_bagging,end=\" \")"
   ]
  },
  {
   "cell_type": "markdown",
   "metadata": {},
   "source": [
    "# APPLYING ADABOOST WITH BASE ESTIMATOR AS RBF SVM"
   ]
  },
  {
   "cell_type": "markdown",
   "metadata": {},
   "source": [
    "### PARAMETER TUNING USING GRIDSEARCHCV WITH 5-FOLD CROSS-VALIDATION"
   ]
  },
  {
   "cell_type": "code",
   "execution_count": 71,
   "metadata": {},
   "outputs": [
    {
     "data": {
      "text/plain": [
       "GridSearchCV(cv=5,\n",
       "             estimator=AdaBoostClassifier(base_estimator=SVC(C=0.99,\n",
       "                                                             probability=True,\n",
       "                                                             random_state=0),\n",
       "                                          random_state=0),\n",
       "             param_grid={'n_estimators': [3, 4, 5, 6, 7, 8, 9, 10]},\n",
       "             scoring='roc_auc')"
      ]
     },
     "execution_count": 71,
     "metadata": {},
     "output_type": "execute_result"
    }
   ],
   "source": [
    "svm_weak =  SVC(C=0.99,kernel=\"rbf\",random_state=0,probability=True)\n",
    "parameters = {'n_estimators':[3,4,5,6,7,8,9,10]}\n",
    "adaboost = AdaBoostClassifier(base_estimator=svm_weak,random_state=0)\n",
    "clf = GridSearchCV(adaboost,parameters,scoring='roc_auc',cv=5)\n",
    "clf.fit(x_train_norm_top,y_data)"
   ]
  },
  {
   "cell_type": "markdown",
   "metadata": {},
   "source": [
    "### BEST ESTIMATOR FOR ADABOOST CLASSIFIER"
   ]
  },
  {
   "cell_type": "code",
   "execution_count": 72,
   "metadata": {},
   "outputs": [
    {
     "data": {
      "text/plain": [
       "({'n_estimators': 3}, 0.7349737404540361)"
      ]
     },
     "execution_count": 72,
     "metadata": {},
     "output_type": "execute_result"
    }
   ],
   "source": [
    "clf.best_params_,clf.best_score_"
   ]
  },
  {
   "cell_type": "markdown",
   "metadata": {},
   "source": [
    "### TRAINING ON BEST PARAMETERS"
   ]
  },
  {
   "cell_type": "code",
   "execution_count": 73,
   "metadata": {},
   "outputs": [
    {
     "name": "stdout",
     "output_type": "stream",
     "text": [
      "Performance on Training Data:: 0.7025089605734767\n"
     ]
    }
   ],
   "source": [
    "adaboost = AdaBoostClassifier(base_estimator=svm_weak,n_estimators =3 ,random_state=0)\n",
    "adaboost.fit(x_train_norm_top,y_data)\n",
    "print(\"Performance on Training Data::\", adaboost.score(x_train_norm_top,y_data))\n",
    "pred_adaboost = list(adaboost.predict(x_test_norm_top))"
   ]
  },
  {
   "cell_type": "markdown",
   "metadata": {},
   "source": [
    "### PREDICTIONS ON TEST DATA"
   ]
  },
  {
   "cell_type": "code",
   "execution_count": 74,
   "metadata": {},
   "outputs": [
    {
     "name": "stdout",
     "output_type": "stream",
     "text": [
      "[1, 1, 1, 1, -1, 1, -1, 1, 1, 1, -1, -1, 1, -1, -1, -1, -1, 1, -1, 1, 1, -1, -1, 1, -1, -1, 1, -1, 1, 1, 1, -1, 1, 1, 1, -1, 1, 1, 1, 1, 1, 1, 1, -1, -1, 1, 1, 1, 1, 1, 1, 1, -1, -1, -1, 1, 1, 1, 1, 1, -1, 1, -1, 1, 1, -1, 1, -1, 1, -1, 1] "
     ]
    }
   ],
   "source": [
    "print(pred_adaboost,end=\" \")"
   ]
  },
  {
   "cell_type": "markdown",
   "metadata": {},
   "source": [
    "# APPLYING GRADIENT BOOSTING CLASSIFIER"
   ]
  },
  {
   "cell_type": "code",
   "execution_count": 83,
   "metadata": {},
   "outputs": [
    {
     "data": {
      "text/plain": [
       "GridSearchCV(cv=5, estimator=GradientBoostingClassifier(random_state=0),\n",
       "             param_grid={'max_depth': [3, 4, 5, 6],\n",
       "                         'n_estimators': [90, 91, 92, 93, 94, 95]},\n",
       "             scoring='roc_auc')"
      ]
     },
     "execution_count": 83,
     "metadata": {},
     "output_type": "execute_result"
    }
   ],
   "source": [
    "parameters = {'n_estimators':[90,91,92,93,94,95],'max_depth':[3,4,5,6]}\n",
    "gradboost = GradientBoostingClassifier(random_state=0)\n",
    "clf = GridSearchCV(gradboost,parameters,scoring='roc_auc',cv=5)\n",
    "clf.fit(x_train_norm_top,y_data)"
   ]
  },
  {
   "cell_type": "markdown",
   "metadata": {},
   "source": [
    "### BEST ESTIMATOR FOR GRADIENT BOOSTING CLASSIFIER"
   ]
  },
  {
   "cell_type": "code",
   "execution_count": 84,
   "metadata": {},
   "outputs": [
    {
     "data": {
      "text/plain": [
       "({'max_depth': 5, 'n_estimators': 90}, 0.7692066098470038)"
      ]
     },
     "execution_count": 84,
     "metadata": {},
     "output_type": "execute_result"
    }
   ],
   "source": [
    "clf.best_params_,clf.best_score_"
   ]
  },
  {
   "cell_type": "markdown",
   "metadata": {},
   "source": [
    "### TRAINING ON BEST PARAMETERS"
   ]
  },
  {
   "cell_type": "code",
   "execution_count": 85,
   "metadata": {},
   "outputs": [
    {
     "name": "stdout",
     "output_type": "stream",
     "text": [
      "Performance on Training Data:: 1.0\n"
     ]
    }
   ],
   "source": [
    "gradboost = GradientBoostingClassifier(max_depth=5,n_estimators=90,random_state=0)\n",
    "gradboost.fit(x_train_norm_top,y_data)\n",
    "print(\"Performance on Training Data::\", gradboost.score(x_train_norm_top,y_data))\n",
    "pred_gradboost = list(gradboost.predict(x_test_norm_top))"
   ]
  },
  {
   "cell_type": "code",
   "execution_count": 86,
   "metadata": {},
   "outputs": [
    {
     "name": "stdout",
     "output_type": "stream",
     "text": [
      "[1, 1, 1, 1, -1, 1, -1, -1, -1, -1, -1, -1, 1, -1, -1, -1, -1, -1, 1, -1, -1, 1, -1, -1, -1, -1, 1, -1, 1, 1, 1, -1, 1, 1, -1, 1, -1, 1, 1, -1, 1, 1, 1, -1, -1, -1, 1, 1, 1, 1, -1, -1, -1, -1, -1, 1, 1, -1, -1, 1, -1, 1, -1, 1, 1, -1, -1, 1, 1, -1, -1] "
     ]
    }
   ],
   "source": [
    "print(pred_gradboost,end=\" \")"
   ]
  },
  {
   "cell_type": "markdown",
   "metadata": {},
   "source": [
    "# VOTING FOR TOP-3 PERFORMING CLASSIFIERS"
   ]
  },
  {
   "cell_type": "code",
   "execution_count": 101,
   "metadata": {},
   "outputs": [],
   "source": [
    "test=[]\n",
    "for i in range(len(x_test_norm_top)):\n",
    "    test.append(mode([pred_bagging[i],pred_adaboost[i],pred_gradboost[i]]))"
   ]
  },
  {
   "cell_type": "code",
   "execution_count": 102,
   "metadata": {},
   "outputs": [
    {
     "name": "stdout",
     "output_type": "stream",
     "text": [
      "[1, 1, 1, 1, -1, 1, -1, -1, -1, -1, -1, -1, 1, -1, -1, -1, -1, -1, -1, -1, -1, 1, -1, 1, -1, -1, 1, -1, 1, 1, 1, -1, 1, 1, -1, 1, -1, 1, 1, -1, 1, 1, 1, -1, -1, -1, 1, 1, 1, 1, -1, -1, -1, -1, -1, 1, 1, 1, -1, 1, -1, 1, -1, 1, 1, -1, -1, 1, 1, -1, -1] "
     ]
    }
   ],
   "source": [
    "print(test,end=\" \")"
   ]
  },
  {
   "cell_type": "markdown",
   "metadata": {},
   "source": [
    "### WRITING TEST PREDICTIONS TO A CSV FILE"
   ]
  },
  {
   "cell_type": "code",
   "execution_count": 103,
   "metadata": {},
   "outputs": [],
   "source": [
    "test_IDs=[]\n",
    "for i in range(3001,3072):\n",
    "    test_IDs.append(i)\n",
    "final_preds = pd.DataFrame({'Id':test_IDs,'Label': test})\n",
    "final_preds.to_csv (\"C:\\\\Users\\\\Sai Kumar\\\\Desktop\\\\final_predictions_voting.csv\",index=False,header=True)"
   ]
  },
  {
   "cell_type": "markdown",
   "metadata": {},
   "source": [
    "### Reference:\n",
    "\n",
    "1. Kaur, H., Bhalla, S., & Raghava, G. P. (2019). Classification of early and late stage liver hepatocellular carcinoma patients from their genomics and epigenomics profiles. PloS one, 14(9)."
   ]
  }
 ],
 "metadata": {
  "kernelspec": {
   "display_name": "Python 3",
   "language": "python",
   "name": "python3"
  },
  "language_info": {
   "codemirror_mode": {
    "name": "ipython",
    "version": 3
   },
   "file_extension": ".py",
   "mimetype": "text/x-python",
   "name": "python",
   "nbconvert_exporter": "python",
   "pygments_lexer": "ipython3",
   "version": "3.7.1"
  }
 },
 "nbformat": 4,
 "nbformat_minor": 2
}
